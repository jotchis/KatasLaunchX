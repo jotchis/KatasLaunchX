{
  "cells": [
    {
      "cell_type": "markdown",
      "metadata": {},
      "source": [
        "Si un asteroide entra en la atmósfera de la Tierra a una velocidad mayor o igual a 20 km/s, a veces produce un rayo de luz que se puede ver desde la Tierra. Escribe la lógica condicional que usa declaraciones `if`, `else`, y `elif` para alertar a las personas de todo el mundo que deben buscar un asteroide en el cielo. ¡Hay uno que se dirige a la tierra ahora a una velocidad de 19 km/s!"
      ]
    },
    {
      "cell_type": "markdown",
      "metadata": {},
      "source": [
        "## Problema 1"
      ]
    },
    {
      "cell_type": "code",
      "execution_count": 1,
      "metadata": {},
      "outputs": [
        {
          "name": "stdout",
          "output_type": "stream",
          "text": [
            "¡Alerta! ¡Un asteroide se acerca a velocidades peligrosas!\n"
          ]
        }
      ],
      "source": [
        "asteroide = 49\n",
        "if asteroide > 25:\n",
        "    print('¡Alerta! ¡Un asteroide se acerca a velocidades peligrosas!')\n",
        "else:\n",
        "    print('¡Sigue con tu día!')"
      ]
    },
    {
      "cell_type": "markdown",
      "metadata": {},
      "source": [
        "## Problema 2"
      ]
    },
    {
      "cell_type": "code",
      "execution_count": 2,
      "metadata": {},
      "outputs": [
        {
          "name": "stdout",
          "output_type": "stream",
          "text": [
            "¡Nada que ver aquí!\n"
          ]
        }
      ],
      "source": [
        "asteroide = 19\n",
        "if asteroide > 20:\n",
        "    print('Look up! ¡Hay una luz mágica en el cielo!')\n",
        "elif asteroide == 20:\n",
        "    print('Look up! ¡Hay una luz mágica en el cielo!')\n",
        "else:\n",
        "    print('¡Nada que ver aquí!')"
      ]
    },
    {
      "cell_type": "markdown",
      "metadata": {},
      "source": [
        "## Problema 3"
      ]
    },
    {
      "cell_type": "code",
      "execution_count": 3,
      "metadata": {},
      "outputs": [
        {
          "name": "stdout",
          "output_type": "stream",
          "text": [
            "Look up! ¡Hay una luz mágica en el cielo!\n"
          ]
        }
      ],
      "source": [
        "velocidad_asteroide = 25\n",
        "tamano_asteroide = 40\n",
        "if velocidad_asteroide > 25 and tamano_asteroide > 25:\n",
        "    print('¡Alerta, Un asteroide muy peligroso viene hacia la Tierra!')\n",
        "elif velocidad_asteroide >= 20:\n",
        "    print('Look up! ¡Hay una luz mágica en el cielo!')\n",
        "elif tamano_asteroide < 25:\n",
        "    print('Nada que ver aquí :)')\n",
        "else:\n",
        "    print('Nada que ver aquí :)')"
      ]
    }
  ],
  "metadata": {
    "interpreter": {
      "hash": "916dbcbb3f70747c44a77c7bcd40155683ae19c65e1c03b4aa3499c5328201f1"
    },
    "kernel_info": {
      "name": "conda-env-py37_default-py"
    },
    "kernelspec": {
      "display_name": "py37_default",
      "language": "python",
      "name": "python3"
    },
    "language_info": {
      "codemirror_mode": {
        "name": "ipython",
        "version": 3
      },
      "file_extension": ".py",
      "mimetype": "text/x-python",
      "name": "python",
      "nbconvert_exporter": "python",
      "pygments_lexer": "ipython3",
      "version": "3.10.2"
    },
    "nteract": {
      "version": "nteract-front-end@1.0.0"
    },
    "orig_nbformat": 4
  },
  "nbformat": 4,
  "nbformat_minor": 2
}
