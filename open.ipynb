{
 "cells": [
  {
   "cell_type": "code",
   "execution_count": null,
   "metadata": {},
   "outputs": [],
   "source": [
    "def main():\n",
    "    open(\"/path/to/mars.jpg\")\n",
    "\n",
    "if __name__ == '__main__':\n",
    "    main()"
   ]
  },
  {
   "cell_type": "code",
   "execution_count": null,
   "metadata": {},
   "outputs": [],
   "source": [
    " % python3 open.ipynb\n",
    "Traceback (most recent call last):\n",
    "  File \"/tmp/open.py\", line 5, in <module>\n",
    "    main()\n",
    "  File \"/tmp/open.py\", line 2, in main\n",
    "    open(\"/path/to/mars.jpg\")\n",
    "FileNotFoundError: [Errno 2] No such file or directory: '/path/to/mars.jpg'"
   ]
  },
  {
   "cell_type": "code",
   "execution_count": 4,
   "metadata": {},
   "outputs": [],
   "source": [
    "def main():\n",
    "    try:\n",
    "        configuration = open('config.txt')\n",
    "    except FileNotFoundError:    \n",
    "        print(\"Couldn't find the config.txt file!\")"
   ]
  },
  {
   "cell_type": "code",
   "execution_count": 7,
   "metadata": {},
   "outputs": [],
   "source": [
    "def main():\n",
    "    try:\n",
    "        configuration = open('config.txt')\n",
    "    except FileNotFoundError:\n",
    "        print(\"Couldn't find the config.txt file!\")\n",
    "    except IsADirectoryError:\n",
    "        print(\"Found config.txt but it is a directory, couldn't read it\")"
   ]
  },
  {
   "cell_type": "code",
   "execution_count": 8,
   "metadata": {},
   "outputs": [],
   "source": [
    "def main():\n",
    "    try:\n",
    "        configuration = open('config.txt')\n",
    "    except FileNotFoundError:\n",
    "        print(\"Couldn't find the config.txt file!\")\n",
    "    except IsADirectoryError:\n",
    "        print(\"Found config.txt but it is a directory, couldn't read it\")\n",
    "    except (BlockingIOError, TimeoutError):\n",
    "        print(\"Filesystem under heavy load, can't complete reading configuration file\")"
   ]
  },
  {
   "cell_type": "code",
   "execution_count": 9,
   "metadata": {},
   "outputs": [],
   "source": [
    "def water_left(astronauts, water_left, days_left):\n",
    "    daily_usage = astronauts * 11\n",
    "    total_usage = daily_usage * days_left\n",
    "    total_water_left = water_left - total_usage\n",
    "    return f\"Total water left after {days_left} days is: {total_water_left} liters\""
   ]
  },
  {
   "cell_type": "code",
   "execution_count": null,
   "metadata": {},
   "outputs": [],
   "source": [
    ">>> water_left(5, 100, 2)\n",
    "Traceback (most recent call last):\n",
    "  File \"<stdin>\", line 1, in <module>\n",
    "  File \"<stdin>\", line 6, in water_left\n",
    "RuntimeError: There is not enough water for 5 astronauts after 2 days!"
   ]
  },
  {
   "cell_type": "code",
   "execution_count": null,
   "metadata": {},
   "outputs": [],
   "source": [
    "try:\n",
    "    water_left(5, 100, 2)\n",
    "except RuntimeError as err:\n",
    "    alert_navigation_system(err)"
   ]
  },
  {
   "cell_type": "code",
   "execution_count": null,
   "metadata": {},
   "outputs": [],
   "source": [
    ">>> water_left(\"3\", \"200\", None)\n",
    "Traceback (most recent call last):\n",
    "  File \"<stdin>\", line 1, in <module>\n",
    "  File \"<stdin>\", line 3, in water_left\n",
    "TypeError: can't multiply sequence by non-int of type 'NoneType'"
   ]
  },
  {
   "cell_type": "code",
   "execution_count": 17,
   "metadata": {},
   "outputs": [],
   "source": [
    "def water_left(astronauts, water_left, days_left):\n",
    "    for argument in [astronauts, water_left, days_left]:\n",
    "        try:\n",
    "            # If argument is an int, the following operation will work\n",
    "            argument / 10\n",
    "        except TypeError:\n",
    "            # TypError will be raised only if it isn't the right type \n",
    "            # Raise the same exception but with a better error message\n",
    "            raise TypeError(f\"All arguments must be of type int, but received: '{argument}'\")\n",
    "    daily_usage = astronauts * 11\n",
    "    total_usage = daily_usage * days_left\n",
    "    total_water_left = water_left - total_usage\n",
    "    if total_water_left < 0:\n",
    "        raise RuntimeError(f\"There is not enough water for {astronauts} astronauts after {days_left} days!\")\n",
    "    return f\"Total water left after {days_left} days is: {total_water_left} liters\""
   ]
  },
  {
   "cell_type": "code",
   "execution_count": null,
   "metadata": {},
   "outputs": [],
   "source": [
    ">>> water_left(\"3\", \"200\", None)\n",
    "Traceback (most recent call last):\n",
    "  File \"<stdin>\", line 5, in water_left\n",
    "TypeError: unsupported operand type(s) for /: 'str' and 'int'\n",
    "\n",
    "During handling of the preceding exception, another exception occurred:\n",
    "\n",
    "Traceback (most recent call last):\n",
    "  File \"<stdin>\", line 1, in <module>\n",
    "  File \"<stdin>\", line 9, in water_left\n",
    "TypeError: All arguments must be of type int, but received: '3'"
   ]
  }
 ],
 "metadata": {
  "interpreter": {
   "hash": "aee8b7b246df8f9039afb4144a1f6fd8d2ca17a180786b69acc140d282b71a49"
  },
  "kernelspec": {
   "display_name": "Python 3.10.2 64-bit",
   "language": "python",
   "name": "python3"
  },
  "language_info": {
   "codemirror_mode": {
    "name": "ipython",
    "version": 3
   },
   "file_extension": ".py",
   "mimetype": "text/x-python",
   "name": "python",
   "nbconvert_exporter": "python",
   "pygments_lexer": "ipython3",
   "version": "3.10.2"
  },
  "orig_nbformat": 4
 },
 "nbformat": 4,
 "nbformat_minor": 2
}
