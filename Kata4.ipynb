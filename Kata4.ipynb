{
  "cells": [
    {
      "cell_type": "markdown",
      "metadata": {},
      "source": [
        "## Problema 1"
      ]
    },
    {
      "cell_type": "code",
      "execution_count": null,
      "metadata": {},
      "outputs": [],
      "source": [
        "# Texto dividido\n",
        "text_parts = text.split('. ')\n",
        "text_parts\n",
        "\n",
        "# Palabras clave\n",
        "key_words = [\"average\", \"temperature\", \"distance\"]\n",
        "\n",
        "# Ciclo for \n",
        "for sentence in text_parts:\n",
        "    for key_word in key_words:\n",
        "        if key_word in sentence:\n",
        "            print(sentence)\n",
        "            break   \n",
        "\n",
        "# Ciclo para cambiar C a Celsius\n",
        "for sentence in text_parts:\n",
        "    for key_word in key_words:\n",
        "        if key_word in sentence:\n",
        "            print(sentence.replace(' C', ' Celsius'))\n",
        "            break"
      ]
    },
    {
      "cell_type": "markdown",
      "metadata": {},
      "source": [
        "## Problema 2"
      ]
    },
    {
      "cell_type": "code",
      "execution_count": 7,
      "metadata": {},
      "outputs": [
        {
          "name": "stdout",
          "output_type": "stream",
          "text": [
            "-------------------------------------------------------------------------------- \n",
            "Nombre del planeta: Marte  \n",
            "Gravedad en Ganímedes: 1.4300000000000002 m/s2 \n",
            "\n",
            "-------------------------------------------------------------------------------- \n",
            "Nombre del planeta: Marte  \n",
            "Gravedad en Ganímedes: 1.4300000000000002 m/s2 \n",
            "\n",
            "\n",
            "Datos de Gravedad sobre: Ganímedes\n",
            "-------------------------------------------------------------------------------\n",
            "Nombre del planeta: Marte \n",
            "Gravedad en Ganímedes: 0.00143 m/s2\n",
            "\n",
            "\n",
            "Datos de Gravedad sobre: Ganímedes\n",
            "-------------------------------------------------------------------------------\n",
            "Nombre del planeta: Marte \n",
            "Gravedad en Ganímedes: 1.4300000000000002 m/s2\n",
            "\n"
          ]
        }
      ],
      "source": [
        "# Datos \n",
        "\n",
        "planeta = 'Marte '\n",
        "gravedad  = 0.00143\n",
        "nombre = 'Ganímedes'\n",
        "\n",
        "# Creamos el título\n",
        "title = f'datos de gravedad sobre {nombre}'\n",
        "\n",
        "# Creamos la plantilla\n",
        "hechos = f\"\"\"{'-'*80} \n",
        "Nombre del planeta: {planeta} \n",
        "Gravedad en {nombre}: {gravedad * 1000} m/s2 \n",
        "\"\"\"\n",
        "\n",
        "# Unión de ambas cadenas\n",
        "template = f\"\"\"{title.title()} \n",
        "{hechos} \n",
        "\"\"\" \n",
        "print(hechos)\n",
        "\n",
        "# Nuevos datos muestra\n",
        "planeta = 'Marte '\n",
        "gravedad  = 0.00143\n",
        "nombre = 'Ganímedes'\n",
        "\n",
        "# Comprobamos la plantilla\n",
        "print(hechos)\n",
        "\n",
        "new_template = \"\"\"\n",
        "Datos de Gravedad sobre: {nombre}\n",
        "-------------------------------------------------------------------------------\n",
        "Nombre del planeta: {planeta}\n",
        "Gravedad en {nombre}: {gravedad} m/s2\n",
        "\"\"\"\n",
        "print(new_template.format(nombre=nombre, planeta=planeta, gravedad=gravedad))\n",
        "\n",
        "# Pista: print(nueva_plantilla.format(variables))\n",
        "print(new_template.format(nombre=nombre, planeta=planeta, gravedad=gravedad*1000))"
      ]
    }
  ],
  "metadata": {
    "interpreter": {
      "hash": "502cd6c3b6c9e666d195e1caff9d64ea12bf644e547a4c8fae84812082c54b6f"
    },
    "kernel_info": {
      "name": "conda-env-py37_default-py"
    },
    "kernelspec": {
      "display_name": "py37_default",
      "language": "python",
      "name": "python3"
    },
    "language_info": {
      "codemirror_mode": {
        "name": "ipython",
        "version": 3
      },
      "file_extension": ".py",
      "mimetype": "text/x-python",
      "name": "python",
      "nbconvert_exporter": "python",
      "pygments_lexer": "ipython3",
      "version": "3.10.2"
    },
    "nteract": {
      "version": "nteract-front-end@1.0.0"
    },
    "orig_nbformat": 4
  },
  "nbformat": 4,
  "nbformat_minor": 2
}
